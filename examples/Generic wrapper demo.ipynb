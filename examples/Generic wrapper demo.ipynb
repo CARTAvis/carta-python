{
 "cells": [
  {
   "cell_type": "code",
   "execution_count": 1,
   "metadata": {},
   "outputs": [],
   "source": [
    "import numpy as np\n",
    "from carta.client import Session, Colormap, CoordinateSystem, PaletteColor, Overlay, Scaling\n",
    "from IPython.display import Image"
   ]
  },
  {
   "cell_type": "code",
   "execution_count": 2,
   "metadata": {},
   "outputs": [],
   "source": [
    "# These host, port and session ID values should match your backend gRPC server\n",
    "# and the currently running frontend session\n",
    "session = Session(\"localhost\", 50051, 1)\n",
    "\n",
    "# Optionally close any existing images open in the session\n",
    "for img in session.image_list():\n",
    "    img.close()\n",
    "\n",
    "# Optionally open / append new images (adjust the paths as necessary)\n",
    "img = session.open_image(\"/home/adrianna/data/hdf5/orion_12co_hera.hdf5\")\n",
    "# session.append_image(\"/home/adrianna/data/fits/orion_12co_hera.fits\")"
   ]
  },
  {
   "cell_type": "code",
   "execution_count": 3,
   "metadata": {},
   "outputs": [
    {
     "ename": "CartaValidationException",
     "evalue": "Invalid function parameter: 'Number' object has no attribute 'include_min'",
     "output_type": "error",
     "traceback": [
      "\u001b[0;31m---------------------------------------------------------------------------\u001b[0m",
      "\u001b[0;31mAttributeError\u001b[0m                            Traceback (most recent call last)",
      "\u001b[0;32m~/.local/lib/python3.6/site-packages/carta/validation.py\u001b[0m in \u001b[0;36mnewfunc\u001b[0;34m(self, *args)\u001b[0m\n\u001b[1;32m    475\u001b[0m                 \u001b[0;32mfor\u001b[0m \u001b[0mparam\u001b[0m\u001b[0;34m,\u001b[0m \u001b[0mvalue\u001b[0m \u001b[0;32min\u001b[0m \u001b[0mzip\u001b[0m\u001b[0;34m(\u001b[0m\u001b[0mvargs\u001b[0m\u001b[0;34m,\u001b[0m \u001b[0margs\u001b[0m\u001b[0;34m)\u001b[0m\u001b[0;34m:\u001b[0m\u001b[0;34m\u001b[0m\u001b[0;34m\u001b[0m\u001b[0m\n\u001b[0;32m--> 476\u001b[0;31m                     \u001b[0mparam\u001b[0m\u001b[0;34m.\u001b[0m\u001b[0mvalidate\u001b[0m\u001b[0;34m(\u001b[0m\u001b[0mvalue\u001b[0m\u001b[0;34m,\u001b[0m \u001b[0mself\u001b[0m\u001b[0;34m)\u001b[0m\u001b[0;34m\u001b[0m\u001b[0;34m\u001b[0m\u001b[0m\n\u001b[0m\u001b[1;32m    477\u001b[0m             \u001b[0;32mexcept\u001b[0m \u001b[0;34m(\u001b[0m\u001b[0mTypeError\u001b[0m\u001b[0;34m,\u001b[0m \u001b[0mValueError\u001b[0m\u001b[0;34m,\u001b[0m \u001b[0mAttributeError\u001b[0m\u001b[0;34m)\u001b[0m \u001b[0;32mas\u001b[0m \u001b[0me\u001b[0m\u001b[0;34m:\u001b[0m\u001b[0;34m\u001b[0m\u001b[0;34m\u001b[0m\u001b[0m\n",
      "\u001b[0;32m~/.local/lib/python3.6/site-packages/carta/validation.py\u001b[0m in \u001b[0;36mvalidate\u001b[0;34m(self, value, parent)\u001b[0m\n\u001b[1;32m    444\u001b[0m         \u001b[0mparam\u001b[0m \u001b[0;34m=\u001b[0m \u001b[0mself\u001b[0m\u001b[0;34m.\u001b[0m\u001b[0mparamclass\u001b[0m\u001b[0;34m(\u001b[0m\u001b[0;34m*\u001b[0m\u001b[0margs\u001b[0m\u001b[0;34m)\u001b[0m\u001b[0;34m\u001b[0m\u001b[0;34m\u001b[0m\u001b[0m\n\u001b[0;32m--> 445\u001b[0;31m         \u001b[0mparam\u001b[0m\u001b[0;34m.\u001b[0m\u001b[0mvalidate\u001b[0m\u001b[0;34m(\u001b[0m\u001b[0mvalue\u001b[0m\u001b[0;34m,\u001b[0m \u001b[0mparent\u001b[0m\u001b[0;34m)\u001b[0m\u001b[0;34m\u001b[0m\u001b[0;34m\u001b[0m\u001b[0m\n\u001b[0m\u001b[1;32m    446\u001b[0m \u001b[0;34m\u001b[0m\u001b[0m\n",
      "\u001b[0;32m~/.local/lib/python3.6/site-packages/carta/validation.py\u001b[0m in \u001b[0;36mvalidate\u001b[0;34m(self, value, parent)\u001b[0m\n\u001b[1;32m    139\u001b[0m         \u001b[0;32mif\u001b[0m \u001b[0mself\u001b[0m\u001b[0;34m.\u001b[0m\u001b[0mmin\u001b[0m \u001b[0;32mis\u001b[0m \u001b[0;32mnot\u001b[0m \u001b[0;32mNone\u001b[0m\u001b[0;34m:\u001b[0m\u001b[0;34m\u001b[0m\u001b[0;34m\u001b[0m\u001b[0m\n\u001b[0;32m--> 140\u001b[0;31m             \u001b[0;32mif\u001b[0m \u001b[0mself\u001b[0m\u001b[0;34m.\u001b[0m\u001b[0minclude_min\u001b[0m\u001b[0;34m:\u001b[0m\u001b[0;34m\u001b[0m\u001b[0;34m\u001b[0m\u001b[0m\n\u001b[0m\u001b[1;32m    141\u001b[0m                 \u001b[0;32mif\u001b[0m \u001b[0mvalue\u001b[0m \u001b[0;34m<\u001b[0m \u001b[0mself\u001b[0m\u001b[0;34m.\u001b[0m\u001b[0mmin\u001b[0m\u001b[0;34m:\u001b[0m\u001b[0;34m\u001b[0m\u001b[0;34m\u001b[0m\u001b[0m\n",
      "\u001b[0;31mAttributeError\u001b[0m: 'Number' object has no attribute 'include_min'",
      "\nDuring handling of the above exception, another exception occurred:\n",
      "\u001b[0;31mCartaValidationException\u001b[0m                  Traceback (most recent call last)",
      "\u001b[0;32m<ipython-input-3-d9c9c02fbe7b>\u001b[0m in \u001b[0;36m<module>\u001b[0;34m\u001b[0m\n\u001b[1;32m      1\u001b[0m \u001b[0;31m# change the channel\u001b[0m\u001b[0;34m\u001b[0m\u001b[0;34m\u001b[0m\u001b[0;34m\u001b[0m\u001b[0m\n\u001b[0;32m----> 2\u001b[0;31m \u001b[0mimg\u001b[0m\u001b[0;34m.\u001b[0m\u001b[0mset_channel_stokes\u001b[0m\u001b[0;34m(\u001b[0m\u001b[0;36m10\u001b[0m\u001b[0;34m,\u001b[0m \u001b[0;36m0\u001b[0m\u001b[0;34m,\u001b[0m \u001b[0;32mTrue\u001b[0m\u001b[0;34m)\u001b[0m\u001b[0;34m\u001b[0m\u001b[0;34m\u001b[0m\u001b[0m\n\u001b[0m\u001b[1;32m      3\u001b[0m \u001b[0;31m# various commands for handling spatial and spectral matching are also available\u001b[0m\u001b[0;34m\u001b[0m\u001b[0;34m\u001b[0m\u001b[0;34m\u001b[0m\u001b[0m\n\u001b[1;32m      4\u001b[0m \u001b[0;34m\u001b[0m\u001b[0m\n\u001b[1;32m      5\u001b[0m \u001b[0;31m# pan and zoom\u001b[0m\u001b[0;34m\u001b[0m\u001b[0;34m\u001b[0m\u001b[0;34m\u001b[0m\u001b[0m\n",
      "\u001b[0;32m~/.local/lib/python3.6/site-packages/carta/validation.py\u001b[0m in \u001b[0;36mnewfunc\u001b[0;34m(self, *args)\u001b[0m\n\u001b[1;32m    480\u001b[0m                 \u001b[0mmsg\u001b[0m \u001b[0;34m=\u001b[0m \u001b[0mre\u001b[0m\u001b[0;34m.\u001b[0m\u001b[0msub\u001b[0m\u001b[0;34m(\u001b[0m\u001b[0;34m\":obj:`(.*)`\"\u001b[0m\u001b[0;34m,\u001b[0m \u001b[0;34mr\"\\1\"\u001b[0m\u001b[0;34m,\u001b[0m \u001b[0mmsg\u001b[0m\u001b[0;34m)\u001b[0m\u001b[0;34m\u001b[0m\u001b[0;34m\u001b[0m\u001b[0m\n\u001b[1;32m    481\u001b[0m                 \u001b[0mmsg\u001b[0m \u001b[0;34m=\u001b[0m \u001b[0mre\u001b[0m\u001b[0;34m.\u001b[0m\u001b[0msub\u001b[0m\u001b[0;34m(\u001b[0m\u001b[0;34m\"``(.*)``\"\u001b[0m\u001b[0;34m,\u001b[0m \u001b[0;34mr\"\\1\"\u001b[0m\u001b[0;34m,\u001b[0m \u001b[0mmsg\u001b[0m\u001b[0;34m)\u001b[0m\u001b[0;34m\u001b[0m\u001b[0;34m\u001b[0m\u001b[0m\n\u001b[0;32m--> 482\u001b[0;31m                 \u001b[0;32mraise\u001b[0m \u001b[0mCartaValidationException\u001b[0m\u001b[0;34m(\u001b[0m\u001b[0;34mf\"Invalid function parameter: {msg}\"\u001b[0m\u001b[0;34m)\u001b[0m\u001b[0;34m\u001b[0m\u001b[0;34m\u001b[0m\u001b[0m\n\u001b[0m\u001b[1;32m    483\u001b[0m             \u001b[0;32mreturn\u001b[0m \u001b[0mfunc\u001b[0m\u001b[0;34m(\u001b[0m\u001b[0mself\u001b[0m\u001b[0;34m,\u001b[0m \u001b[0;34m*\u001b[0m\u001b[0margs\u001b[0m\u001b[0;34m)\u001b[0m\u001b[0;34m\u001b[0m\u001b[0;34m\u001b[0m\u001b[0m\n\u001b[1;32m    484\u001b[0m \u001b[0;34m\u001b[0m\u001b[0m\n",
      "\u001b[0;31mCartaValidationException\u001b[0m: Invalid function parameter: 'Number' object has no attribute 'include_min'"
     ]
    }
   ],
   "source": [
    "# change the channel\n",
    "img.set_channel_stokes(10, 0, True)\n",
    "# various commands for handling spatial and spectral matching are also available\n",
    "\n",
    "# pan and zoom\n",
    "y, x = img.shape[-2:]\n",
    "img.set_center(x/2, y/2)\n",
    "img.set_zoom(4)\n",
    "\n",
    "# change colormap\n",
    "img.set_colormap(Colormap.VIRIDIS)\n",
    "# more advanced options\n",
    "#img.set_colormap(Colormap.VIRIDIS, invert=True)\n",
    "#img.set_scaling(Scaling.LOG, alpha=100, min=-0.5, max=30)\n",
    "\n",
    "# change some overlay properties\n",
    "session.set_view_area(500, 500)\n",
    "#session.set_coordinate_system(CoordinateSystem.FK5)\n",
    "#session.set_color(PaletteColor.RED)\n",
    "#session.set_color(PaletteColor.VIOLET, Overlay.TICKS)\n",
    "#session.show(Overlay.TITLE)\n",
    "\n",
    "# add contours\n",
    "levels = np.arange(5, 5 * 5, 4)\n",
    "img.configure_contours(levels)\n",
    "img.apply_contours()\n",
    "# use a constant colour\n",
    "img.set_contour_color(\"red\")\n",
    "# or use a colourmap\n",
    "#img.set_contour_colormap(Colormap.REDS)"
   ]
  },
  {
   "cell_type": "code",
   "execution_count": null,
   "metadata": {},
   "outputs": [],
   "source": [
    "# You can retrieve the encoded data uri, the raw decoded data as below,\n",
    "# or save the data to a png file. The parameter is the desired background colour;\n",
    "# it can be any HTML/CSS colour string, including an rgba value.\n",
    "\n",
    "# Known issue: we need to wait for the commands above to complete before getting \n",
    "# the rendered view, and this behaviour is not yet handled consistently. For now,\n",
    "# if the view is out of date, re-run this cell.\n",
    "\n",
    "picture = Image(data=session.rendered_view_data(\"white\"))\n",
    "# picture = Image(data=session.rendered_view_data(\"#000000\"))\n",
    "# picture = Image(data=session.rendered_view_data(\"rgba(255, 0, 0, .5)\"))\n",
    "display(picture)"
   ]
  },
  {
   "cell_type": "code",
   "execution_count": null,
   "metadata": {},
   "outputs": [],
   "source": [
    "img.shape"
   ]
  },
  {
   "cell_type": "code",
   "execution_count": null,
   "metadata": {},
   "outputs": [],
   "source": [
    "img.set_channel_stokes(20)"
   ]
  },
  {
   "cell_type": "code",
   "execution_count": null,
   "metadata": {},
   "outputs": [],
   "source": [
    "img.set_channel_stokes(40)"
   ]
  },
  {
   "cell_type": "code",
   "execution_count": null,
   "metadata": {},
   "outputs": [],
   "source": []
  }
 ],
 "metadata": {
  "kernelspec": {
   "display_name": "Python 3",
   "language": "python",
   "name": "python3"
  },
  "language_info": {
   "codemirror_mode": {
    "name": "ipython",
    "version": 3
   },
   "file_extension": ".py",
   "mimetype": "text/x-python",
   "name": "python",
   "nbconvert_exporter": "python",
   "pygments_lexer": "ipython3",
   "version": "3.6.9"
  }
 },
 "nbformat": 4,
 "nbformat_minor": 2
}
