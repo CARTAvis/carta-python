{
 "cells": [
  {
   "cell_type": "code",
   "execution_count": null,
   "metadata": {},
   "outputs": [],
   "source": [
    "import numpy as np\n",
    "from carta.client import Session\n",
    "from carta.constants import Colormap, CoordinateSystem, PaletteColor, Overlay, Scaling\n",
    "from carta.browser import ChromeHeadless\n",
    "from IPython.display import Image"
   ]
  },
  {
   "cell_type": "code",
   "execution_count": null,
   "metadata": {},
   "outputs": [],
   "source": [
    "# Options for connecting to an existing session:\n",
    "\n",
    "# These host, port, session ID and token values should match your backend gRPC server\n",
    "# and the currently running frontend session\n",
    "#session = Session.connect(\"localhost\", 50051, 1, \"GRPC SECURITY TOKEN\")\n",
    "\n",
    "# Optionally close any existing images open in the session\n",
    "#for img in session.image_list():\n",
    "#    img.close()\n",
    "\n",
    "# Options for creating a new session:\n",
    "\n",
    "# New session, existing backend\n",
    "#session = Session.new(ChromeHeadless(), \"FRONTEND URL\", \"GRPC SECURITY TOKEN\")\n",
    "\n",
    "# New session, start local backend\n",
    "session = Session.new(ChromeHeadless())\n",
    "\n",
    "# New session, start remote backend\n",
    "#session = Session.new(ChromeHeadless(), remote_host=\"REMOTE HOSTNAME OR IP\")\n",
    "\n",
    "# Optionally open / append new images (adjust the paths as necessary)\n",
    "session.open_image(\"data/hdf5/orion_12co_hera.hdf5\")\n",
    "img = session.append_image(\"data/fits/orion_12co_hera.fits\")"
   ]
  },
  {
   "cell_type": "code",
   "execution_count": null,
   "metadata": {},
   "outputs": [],
   "source": [
    "# change the channel\n",
    "img.set_channel_stokes(10, 0, True)\n",
    "# various commands for handling spatial and spectral matching are also available\n",
    "\n",
    "# pan and zoom\n",
    "y, x = img.shape[-2:]\n",
    "img.set_center(x/2, y/2)\n",
    "img.set_zoom(4)\n",
    "\n",
    "# change colormap\n",
    "img.set_colormap(Colormap.VIRIDIS)\n",
    "# more advanced options\n",
    "#img.set_colormap(Colormap.VIRIDIS, invert=True)\n",
    "#img.set_scaling(Scaling.LOG, alpha=100, min=-0.5, max=30)\n",
    "\n",
    "# change some overlay properties\n",
    "session.set_view_area(500, 500)\n",
    "#session.set_coordinate_system(CoordinateSystem.FK5)\n",
    "#session.set_color(PaletteColor.RED)\n",
    "#session.set_color(PaletteColor.VIOLET, Overlay.TICKS)\n",
    "#session.show(Overlay.TITLE)\n",
    "\n",
    "# add contours\n",
    "levels = np.arange(5, 5 * 5, 4)\n",
    "img.configure_contours(levels)\n",
    "img.apply_contours()\n",
    "# use a constant colour\n",
    "img.set_contour_color(\"red\")\n",
    "# or use a colourmap\n",
    "#img.set_contour_colormap(Colormap.REDS)"
   ]
  },
  {
   "cell_type": "code",
   "execution_count": null,
   "metadata": {},
   "outputs": [],
   "source": [
    "# You can retrieve the encoded data uri, the raw decoded data as below,\n",
    "# or save the data to a png file. The parameter is the desired background colour;\n",
    "# it can be any HTML/CSS colour string, including an rgba value.\n",
    "\n",
    "# Known issue: we need to wait for the commands above to complete before getting \n",
    "# the rendered view, and this behaviour is not yet handled consistently. For now,\n",
    "# if the view is out of date, re-run this cell.\n",
    "\n",
    "picture = Image(data=session.rendered_view_data(\"white\"))\n",
    "# picture = Image(data=session.rendered_view_data(\"#000000\"))\n",
    "# picture = Image(data=session.rendered_view_data(\"rgba(255, 0, 0, .5)\"))\n",
    "display(picture)"
   ]
  },
  {
   "cell_type": "code",
   "execution_count": null,
   "metadata": {
    "scrolled": false
   },
   "outputs": [],
   "source": [
    "session.close()"
   ]
  },
  {
   "cell_type": "code",
   "execution_count": null,
   "metadata": {},
   "outputs": [],
   "source": []
  }
 ],
 "metadata": {
  "kernelspec": {
   "display_name": "Python 3",
   "language": "python",
   "name": "python3"
  },
  "language_info": {
   "codemirror_mode": {
    "name": "ipython",
    "version": 3
   },
   "file_extension": ".py",
   "mimetype": "text/x-python",
   "name": "python",
   "nbconvert_exporter": "python",
   "pygments_lexer": "ipython3",
   "version": "3.8.10"
  }
 },
 "nbformat": 4,
 "nbformat_minor": 2
}
