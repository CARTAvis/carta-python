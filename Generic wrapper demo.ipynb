{
 "cells": [
  {
   "cell_type": "code",
   "execution_count": null,
   "metadata": {},
   "outputs": [],
   "source": [
    "from prototype_client import Session, Colormap\n",
    "from IPython.display import Image\n",
    "import time"
   ]
  },
  {
   "cell_type": "code",
   "execution_count": null,
   "metadata": {},
   "outputs": [],
   "source": [
    "session = Session(\"localhost\", 50051, 9)\n",
    "\n",
    "for img in session.image_list():\n",
    "    img.close()\n",
    "\n",
    "    \n",
    "img = session.open_image(\"/home/adrianna/data/hdf5/orion_12co_hera.hdf5\")\n",
    "\n",
    "Colormap.fetch(session)"
   ]
  },
  {
   "cell_type": "code",
   "execution_count": null,
   "metadata": {},
   "outputs": [],
   "source": [
    "img.set_channel_stokes(10, 0, True)\n",
    "\n",
    "y, x = img.shape()[-2:]\n",
    "\n",
    "img.set_center(x/2, y/2)\n",
    "img.set_zoom(5)\n",
    "img.set_colormap(Colormap.VIRIDIS)"
   ]
  },
  {
   "cell_type": "code",
   "execution_count": null,
   "metadata": {},
   "outputs": [],
   "source": [
    "picture = Image(data=session.rendered_view_data(\"white\"))\n",
    "display(picture)"
   ]
  }
 ],
 "metadata": {
  "kernelspec": {
   "display_name": "Python 3",
   "language": "python",
   "name": "python3"
  },
  "language_info": {
   "codemirror_mode": {
    "name": "ipython",
    "version": 3
   },
   "file_extension": ".py",
   "mimetype": "text/x-python",
   "name": "python",
   "nbconvert_exporter": "python",
   "pygments_lexer": "ipython3",
   "version": "3.6.9"
  }
 },
 "nbformat": 4,
 "nbformat_minor": 2
}
